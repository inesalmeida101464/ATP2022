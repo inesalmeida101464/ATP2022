{
 "cells": [
  {
   "cell_type": "markdown",
   "id": "4193a91b",
   "metadata": {},
   "source": [
    "### TPC8: Teste de aferição\n",
    "\n",
    "Resolva os problemas apresentados a seguir."
   ]
  },
  {
   "cell_type": "markdown",
   "id": "4e758271",
   "metadata": {},
   "source": [
    "### tpc1.a) Recebe duas strings, _s1_ e _s2_, e retorna o comprimento da substring inicial de _s1_ que não contem nenhum caráter de _s2_:"
   ]
  },
  {
   "cell_type": "code",
   "execution_count": 78,
   "id": "4ae7f5d0",
   "metadata": {},
   "outputs": [
    {
     "name": "stdout",
     "output_type": "stream",
     "text": [
      "E\n",
      "s\n",
      "t\n",
      "á\n"
     ]
    },
    {
     "data": {
      "text/plain": [
       "4"
      ]
     },
     "execution_count": 78,
     "metadata": {},
     "output_type": "execute_result"
    }
   ],
   "source": [
    "def inicDiferente(s1, s2):\n",
    "    res = 0\n",
    "    for letra in s1:\n",
    "        if letra not in s2:\n",
    "            res+=1\n",
    "        else:\n",
    "            return res\n",
    "\n",
    "\n",
    "    return res\n",
    "\n",
    "inicDiferente(\"Está um bom dia...\", \"Hoje é um dia alegre.\")\n",
    "# resultado esperado: 4"
   ]
  },
  {
   "cell_type": "markdown",
   "id": "28cb3dc4",
   "metadata": {},
   "source": [
    "### tpc1.b) Recebe um parâmetro _n_ e lê _n_ números inteiros; no fim retorna quantos dos números lidos são superiores à média dos números lidos:"
   ]
  },
  {
   "cell_type": "code",
   "execution_count": null,
   "id": "4458c7bc",
   "metadata": {},
   "outputs": [
    {
     "name": "stdout",
     "output_type": "stream",
     "text": [
      "5.8\n"
     ]
    },
    {
     "data": {
      "text/plain": [
       "3"
      ]
     },
     "execution_count": 47,
     "metadata": {},
     "output_type": "execute_result"
    }
   ],
   "source": [
    "def acimaMedia(n):\n",
    "    res = 0\n",
    "    soma=0\n",
    "    lista=[]\n",
    "    i=0\n",
    "    while i<n:\n",
    "        num=int(input(\"Insira n números\"))\n",
    "        lista.append(num)\n",
    "        i=i+1\n",
    "        soma=soma+num\n",
    "        \n",
    "    media=soma/n\n",
    "    \n",
    "    for num in lista:\n",
    "        if num>media:\n",
    "            res+=1\n",
    "    \n",
    "    return res\n",
    "\n",
    "\n",
    "n=int(input(\"Insira um número n\"))\n",
    "acimaMedia(n)"
   ]
  },
  {
   "cell_type": "markdown",
   "id": "e6db31d7",
   "metadata": {},
   "source": [
    "### tpc1.c) Faz o merge de duas listas ordenadas, retornando uma lista ordenada com os elementos das duas listas (__não podes usar nenhuma função de ordenação do Python__):"
   ]
  },
  {
   "cell_type": "code",
   "execution_count": null,
   "id": "2b5ad344",
   "metadata": {},
   "outputs": [
    {
     "data": {
      "text/plain": [
       "[1, 2, 3, 4, 6, 7, 9, 12]"
      ]
     },
     "execution_count": 66,
     "metadata": {},
     "output_type": "execute_result"
    }
   ],
   "source": [
    "def merge(l1, l2):\n",
    "        l3=l1+l2\n",
    "        for n in range(len(l3)):\n",
    "                n=1\n",
    "                while n<len(l3):\n",
    "                        if l3[n]<l3[n-1]:\n",
    "                                l3[n],l3[n-1]=l3[n-1],l3[n]\n",
    "                        n=n+1\n",
    "        return l3\n",
    "    \n",
    "merge([1,2,6,9], [3,4,7,12])\n",
    "# Resultado esperado: [1,2,3,4,6,7,9,12]"
   ]
  },
  {
   "cell_type": "markdown",
   "id": "6698b337",
   "metadata": {},
   "source": [
    "### tpc1.d) Recebe o nome de dois ficheiros de texto, _f1_ e _f2_, e indica se são iguais (__True__) no seu conteúdo ou se são diferentes (__False__):"
   ]
  },
  {
   "cell_type": "code",
   "execution_count": null,
   "id": "54cef309",
   "metadata": {},
   "outputs": [],
   "source": [
    "def figuais(f1, f2):\n",
    "    file1 = open(f1)\n",
    "    file2 = open(f2)\n",
    "    lista1 = []\n",
    "    lista2 = []\n",
    "    res = False\n",
    "    for linha in file1:\n",
    "        lista1.append(linha)\n",
    "    for linha in file2:\n",
    "        lista2.append(linha)\n",
    "\n",
    "    print(lista1)\n",
    "    print(lista2)\n",
    "    if len(lista1)==len(lista2):\n",
    "        for i in range(len(lista1)):\n",
    "            if lista1[i]==lista2[i]:\n",
    "                res = True\n",
    "    else:\n",
    "        resp = False\n",
    "    file1.close()\n",
    "    file2.close()\n",
    "    return res\n",
    "    return # ...\n",
    "\n",
    "#print(figuais(\"texto1.txt\", \"texto1.txt\"))\n",
    "#print(figuais(\"texto1.txt\", \"texto2.txt\"))"
   ]
  },
  {
   "cell_type": "markdown",
   "id": "7cd572fc",
   "metadata": {},
   "source": [
    "## Questão 2: Gestão de uma Cinemateca\n",
    "\n",
    "Analise as seguintes estruturas de dados que materializam o modelo de uma cinemateca:"
   ]
  },
  {
   "cell_type": "code",
   "execution_count": null,
   "id": "76e9e621",
   "metadata": {},
   "outputs": [],
   "source": [
    "# Cinemateca = [Filme]\n",
    "# Pub = (Título, Ano, Elenco, Géneros)\n",
    "# Título = String\n",
    "# Ano = Int\n",
    "# Elenco = [Ator]\n",
    "# Ator = String\n",
    "# Géneros = [Género]\n",
    "# Género = String\n",
    "Filme1 = (\"Meet the Parents\", 2000, [\"Ben Stiller\",\"Robert De Niro\",\n",
    "      \"Blythe Danner\",\"Teri Polo\",\"Owen Wilson\"], [\"Comedy\", \"Drama\"])\n",
    "Filme2 = (\"Men of Honor\", 2000, [\"Robert De Niro\",\"Cuba Gooding, Jr.\",\n",
    "      \"Charlize Theron\"], [\"Biography\", \"Drama\", \"Thriller\"])\n",
    "Filme3 = (\"Analyze That\", 2002, [\"Robert De Niro\",\"Billy Crystal\",\n",
    "      \"Lisa Kudrow\"], [\"Comedy\"])\n",
    "CineUM = [Filme1, Filme2, Filme3]"
   ]
  },
  {
   "cell_type": "markdown",
   "id": "89afc758",
   "metadata": {},
   "source": [
    " e especifique funções que calculem o que se descreve a seguir:"
   ]
  },
  {
   "cell_type": "markdown",
   "id": "2156a0c8",
   "metadata": {},
   "source": [
    "### tpc2.a)  Devolve uma lista dos atores participantes nos filmes armazenados, ordenada alfabeticamente e sem repetições:"
   ]
  },
  {
   "cell_type": "code",
   "execution_count": null,
   "id": "8a5a2a41",
   "metadata": {},
   "outputs": [
    {
     "name": "stdout",
     "output_type": "stream",
     "text": [
      "['Ben Stiller', 'Billy Crystal', 'Blythe Danner', 'Charlize Theron', 'Cuba Gooding, Jr.', 'Lisa Kudrow', 'Owen Wilson', 'Robert De Niro', 'Teri Polo']\n"
     ]
    }
   ],
   "source": [
    "def atores(cinemateca):\n",
    "    listaAtores=[]\n",
    "    for _,_,elenco,_ in cinemateca:\n",
    "        for ator in elenco:\n",
    "            if ator not in listaAtores:\n",
    "                listaAtores.append(ator)\n",
    "    listaAtores.sort()\n",
    "    return listaAtores\n",
    "\n",
    "print(atores(CineUM))\n",
    "# Resultado esperado: ['Ben Stiller', 'Billy Crystal', 'Blythe Danner', 'Charlize Theron', 'Cuba Gooding, Jr.', 'Lisa Kudrow', 'Owen Wilson', 'Robert De Niro', 'Teri Polo']"
   ]
  },
  {
   "cell_type": "markdown",
   "id": "12f9126b",
   "metadata": {},
   "source": [
    "### tpc2.b)  Devolve uma lista de todos os títulos dos filmes, em ordem alfabética, e de um determinado género passado como argumento:"
   ]
  },
  {
   "cell_type": "code",
   "execution_count": null,
   "id": "d9dfe30a",
   "metadata": {},
   "outputs": [
    {
     "name": "stdout",
     "output_type": "stream",
     "text": [
      "['Analyze That', 'Meet the Parents']\n"
     ]
    }
   ],
   "source": [
    "def listarPorGenero(cinemateca, genero):\n",
    "    listaGeneros=[]\n",
    "    for titulo,_,_,generos in cinemateca:\n",
    "        if genero in generos:\n",
    "            listaGeneros.append(titulo)\n",
    "    listaGeneros.sort()\n",
    "    return listaGeneros\n",
    "\n",
    "print(listarPorGenero(CineUM, \"Comedy\"))\n",
    "# Resultado esperado: ['Analyze That', 'Meet the Parents']"
   ]
  },
  {
   "cell_type": "markdown",
   "id": "1a0f760b",
   "metadata": {},
   "source": [
    "### tpc2.c)  Devolve o título do filme com o maior elenco:"
   ]
  },
  {
   "cell_type": "code",
   "execution_count": null,
   "id": "a00c85e3",
   "metadata": {},
   "outputs": [
    {
     "name": "stdout",
     "output_type": "stream",
     "text": [
      "Meet the Parents\n"
     ]
    }
   ],
   "source": [
    "def maiorElenco( cinemateca ):\n",
    "    maior=0\n",
    "    for titulo,_,elenco,_ in cinemateca:\n",
    "        if len(elenco)> maior:\n",
    "            maior=len(elenco)\n",
    "            filme= titulo\n",
    "    return filme\n",
    "\n",
    "print(maiorElenco(CineUM))\n",
    "# Resultado esperado: Meet the Parents"
   ]
  },
  {
   "cell_type": "markdown",
   "id": "65061d0a",
   "metadata": {},
   "source": [
    "### tpc2.d)  Calcula a distribuição de filmes por Género:"
   ]
  },
  {
   "cell_type": "code",
   "execution_count": null,
   "id": "dc1adabc",
   "metadata": {},
   "outputs": [
    {
     "data": {
      "text/plain": [
       "{'Comedy': 2, 'Drama': 2, 'Biography': 1, 'Thriller': 1}"
      ]
     },
     "execution_count": 17,
     "metadata": {},
     "output_type": "execute_result"
    }
   ],
   "source": [
    "def filmePorGenero( cinemateca ):\n",
    "    distrib={}\n",
    "    for _,_,_,genero in cinemateca:\n",
    "        i=0\n",
    "        while i<len(genero):\n",
    "            if genero[i] in distrib.keys():\n",
    "                distrib[genero[i]]+=1\n",
    "            else:\n",
    "                distrib[genero[i]]=1\n",
    "            i=i+1\n",
    "\n",
    "    return distrib\n",
    "filmePorGenero(CineUM)"
   ]
  },
  {
   "cell_type": "markdown",
   "id": "de46a635",
   "metadata": {},
   "source": [
    "### tpc2.e)  Represente num gráfico de barras a distribuição calculada na alínea anterior (pode usar o material que entender das aulas):"
   ]
  },
  {
   "cell_type": "code",
   "execution_count": 81,
   "id": "4118730d",
   "metadata": {},
   "outputs": [
    {
     "ename": "TypeError",
     "evalue": "'tuple' object is not callable",
     "output_type": "error",
     "traceback": [
      "\u001b[1;31m---------------------------------------------------------------------------\u001b[0m",
      "\u001b[1;31mTypeError\u001b[0m                                 Traceback (most recent call last)",
      "Cell \u001b[1;32mIn [81], line 12\u001b[0m\n\u001b[0;32m     10\u001b[0m     plt\u001b[39m.\u001b[39mshow()\n\u001b[0;32m     11\u001b[0m     \u001b[39mreturn\u001b[39;00m\n\u001b[1;32m---> 12\u001b[0m grafico(CineUM)\n",
      "Cell \u001b[1;32mIn [81], line 5\u001b[0m, in \u001b[0;36mgrafico\u001b[1;34m(cinemateca)\u001b[0m\n\u001b[0;32m      2\u001b[0m \u001b[39mimport\u001b[39;00m \u001b[39mmatplotlib\u001b[39;00m\u001b[39m.\u001b[39;00m\u001b[39mpyplot\u001b[39;00m \u001b[39mas\u001b[39;00m \u001b[39mplt\u001b[39;00m\n\u001b[0;32m      3\u001b[0m distribuicao\u001b[39m=\u001b[39mfilmePorGenero(cinemateca)\n\u001b[1;32m----> 5\u001b[0m plt\u001b[39m.\u001b[39;49mbar(distribuicao\u001b[39m.\u001b[39;49mkeys(),distribuicao\u001b[39m.\u001b[39;49mvalues())\n\u001b[0;32m      6\u001b[0m plt\u001b[39m.\u001b[39mxticks([x \u001b[39mfor\u001b[39;00m x \u001b[39min\u001b[39;00m \u001b[39mrange\u001b[39m(\u001b[39m0\u001b[39m, \u001b[39mlen\u001b[39m(distribuicao\u001b[39m.\u001b[39mkeys()))], distribuicao\u001b[39m.\u001b[39mkeys(), rotation\u001b[39m=\u001b[39m\u001b[39m'\u001b[39m\u001b[39mvertical\u001b[39m\u001b[39m'\u001b[39m)\n\u001b[0;32m      7\u001b[0m plt\u001b[39m.\u001b[39mtitle(\u001b[39m\"\u001b[39m\u001b[39mDistribuição de Filmes por Género\u001b[39m\u001b[39m\"\u001b[39m)\n",
      "\u001b[1;31mTypeError\u001b[0m: 'tuple' object is not callable"
     ]
    }
   ],
   "source": [
    "\n",
    "\n",
    "def grafico(cinemateca):\n",
    "    import matplotlib.pyplot as plt\n",
    "    distribuicao=filmePorGenero(cinemateca)\n",
    "\n",
    "    plt.bar(distribuicao.keys(),distribuicao.values())\n",
    "    plt.xticks([x for x in range(0, len(distribuicao.keys()))], distribuicao.keys(), rotation='vertical')\n",
    "    plt.title(\"Distribuição de Filmes por Género\")\n",
    "    plt.xlabel(\"Géneros\")\n",
    "    plt.ylabel(\"Número de Filmes\")\n",
    "    plt.show()\n",
    "    return\n",
    "grafico(CineUM)\n"
   ]
  }
 ],
 "metadata": {
  "kernelspec": {
   "display_name": "Python 3.10.7 64-bit",
   "language": "python",
   "name": "python3"
  },
  "language_info": {
   "codemirror_mode": {
    "name": "ipython",
    "version": 3
   },
   "file_extension": ".py",
   "mimetype": "text/x-python",
   "name": "python",
   "nbconvert_exporter": "python",
   "pygments_lexer": "ipython3",
   "version": "3.10.7"
  },
  "vscode": {
   "interpreter": {
    "hash": "a9cff5a362bc38ef45d817ae74b1af54d6a076e3d773891282bce078b815ba34"
   }
  }
 },
 "nbformat": 4,
 "nbformat_minor": 5
}
